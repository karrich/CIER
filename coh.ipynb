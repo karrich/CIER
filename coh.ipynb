{
 "cells": [
  {
   "cell_type": "code",
   "execution_count": 5,
   "id": "1516783f-0c74-4384-8f82-c6f405238f14",
   "metadata": {},
   "outputs": [],
   "source": [
    "data_list = [ 'Yelp', 'TripAdvisor', 'Amazon/MoviesAndTV']"
   ]
  },
  {
   "cell_type": "code",
   "execution_count": 2,
   "id": "97c30446-2f45-40cb-a660-12361af62dfe",
   "metadata": {},
   "outputs": [
    {
     "name": "stderr",
     "output_type": "stream",
     "text": [
      "/home/sjliu/anaconda3/envs/py39/lib/python3.9/site-packages/tqdm/auto.py:21: TqdmWarning: IProgress not found. Please update jupyter and ipywidgets. See https://ipywidgets.readthedocs.io/en/stable/user_install.html\n",
      "  from .autonotebook import tqdm as notebook_tqdm\n",
      "You are using the default legacy behaviour of the <class 'transformers.models.llama.tokenization_llama.LlamaTokenizer'>. This is expected, and simply means that the `legacy` (previous) behavior will be used so nothing changes for you. If you want to use the new behaviour, set `legacy=False`. This should only be set if you understand what it means, and thoroughly read the reason why this was added as explained in https://github.com/huggingface/transformers/pull/24565\n"
     ]
    }
   ],
   "source": [
    "from transformers import LlamaTokenizer\n",
    "tokenizer2 = LlamaTokenizer.from_pretrained('openlm-research/open_llama_7b_v2')"
   ]
  },
  {
   "cell_type": "code",
   "execution_count": 9,
   "id": "e9335476-c7c7-474f-9940-39c43d32ac53",
   "metadata": {
    "scrolled": true
   },
   "outputs": [],
   "source": [
    "from transformers import pipeline\n",
    "model_path = 'nlptown/bert-base-multilingual-uncased-sentiment'\n",
    "sentiment_task = pipeline(\"text-classification\", model=model_path, tokenizer=model_path,device_map='cuda:0')"
   ]
  },
  {
   "cell_type": "code",
   "execution_count": 6,
   "id": "c03dc9b4-0a13-4b1e-b7b2-ab9c451af919",
   "metadata": {},
   "outputs": [],
   "source": [
    "import pandas as pd\n",
    "dataset_name  = data_list[0]"
   ]
  },
  {
   "cell_type": "code",
   "execution_count": 7,
   "id": "3bc14d50-45a1-4aca-a7a2-cdabf73721b6",
   "metadata": {},
   "outputs": [
    {
     "name": "stdout",
     "output_type": "stream",
     "text": [
      "Yelp\n"
     ]
    }
   ],
   "source": [
    "print(dataset_name)"
   ]
  },
  {
   "cell_type": "code",
   "execution_count": 27,
   "id": "88b06c6a-595e-41e8-a806-e463c095b20b",
   "metadata": {
    "scrolled": true
   },
   "outputs": [],
   "source": [
    "data  = []\n",
    "for split_index in ['1','2','3','4','5']:\n",
    "    dataset = pd.read_pickle('./output/'+dataset_name+'2/'+split_index+'generate.dataset')\n",
    "    data.append(dataset)\n",
    "dataset = pd.concat(data)\n",
    "rating = dataset['rating'].tolist()\n",
    "rating = [x for x in rating]\n",
    "\n",
    "dataset['rating'] = rating\n",
    "\n",
    "text = dataset['text'].tolist()\n",
    "text = [tokenizer2.decode(x) for x in text]"
   ]
  },
  {
   "cell_type": "code",
   "execution_count": 28,
   "id": "b2c325c9-9077-4a88-ab20-844a4652fe64",
   "metadata": {},
   "outputs": [],
   "source": [
    "output = sentiment_task(text, batch_size=4096)"
   ]
  },
  {
   "cell_type": "code",
   "execution_count": 29,
   "id": "b4c74212-b573-452b-8037-0e3d984826fb",
   "metadata": {},
   "outputs": [
    {
     "name": "stdout",
     "output_type": "stream",
     "text": [
      "0.7063993319208821\n"
     ]
    }
   ],
   "source": [
    "acc =0\n",
    "for i in range(len(output)):\n",
    "    if abs(eval(output[i]['label'][0]) - (rating[i]))<=1:\n",
    "        acc+=1\n",
    "print(acc/len(output))"
   ]
  }
 ],
 "metadata": {
  "kernelspec": {
   "display_name": "Python 3",
   "language": "python",
   "name": "python3"
  },
  "language_info": {
   "codemirror_mode": {
    "name": "ipython",
    "version": 3
   },
   "file_extension": ".py",
   "mimetype": "text/x-python",
   "name": "python",
   "nbconvert_exporter": "python",
   "pygments_lexer": "ipython3",
   "version": "3.9.19"
  }
 },
 "nbformat": 4,
 "nbformat_minor": 5
}
